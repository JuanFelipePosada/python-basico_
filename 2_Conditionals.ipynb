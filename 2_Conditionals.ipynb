{
  "nbformat": 4,
  "nbformat_minor": 0,
  "metadata": {
    "colab": {
      "provenance": [],
      "include_colab_link": true
    },
    "kernelspec": {
      "name": "python3",
      "display_name": "Python 3"
    },
    "language_info": {
      "name": "python"
    }
  },
  "cells": [
    {
      "cell_type": "markdown",
      "metadata": {
        "id": "view-in-github",
        "colab_type": "text"
      },
      "source": [
        "<a href=\"https://colab.research.google.com/github/JuanFelipePosada/python-basico_/blob/main/2_Conditionals.ipynb\" target=\"_parent\"><img src=\"https://colab.research.google.com/assets/colab-badge.svg\" alt=\"Open In Colab\"/></a>"
      ]
    },
    {
      "cell_type": "markdown",
      "source": [
        "# Conditionals"
      ],
      "metadata": {
        "id": "VTg9sEC1C3SO"
      }
    },
    {
      "cell_type": "markdown",
      "source": [
        "To perform conditionals in Python, we need to consider that the indentation defines each section of code to be executed.\n",
        "\n",
        "We don't use curly braces or any separator here; instead, we control it with indentation using \"Tab\" characters.\n",
        "\n",
        "Additionally, both the \"if\" and \"else\" statements must end with a colon (not including them will result in a syntax error)."
      ],
      "metadata": {
        "id": "Rk_VXygMC7mm"
      }
    },
    {
      "cell_type": "code",
      "execution_count": 2,
      "metadata": {
        "colab": {
          "base_uri": "https://localhost:8080/"
        },
        "id": "W1DdfxlTCEjM",
        "outputId": "072b4ec5-1c9d-4617-e3e6-59da6caf256d"
      },
      "outputs": [
        {
          "output_type": "stream",
          "name": "stdout",
          "text": [
            "The condition is true.\n",
            "\n"
          ]
        }
      ],
      "source": [
        "a = True\n",
        "\n",
        "if a:\n",
        "  print(\"The condition is true.\\n\")#tab is included here\n",
        "else:\n",
        "  print(\"The condition is false.\\n\")#tab is included here"
      ]
    },
    {
      "cell_type": "code",
      "source": [
        "\n",
        "a = False\n",
        "\n",
        "if a:\n",
        "  print(\"The condition is true.\\n\")\n",
        "else:\n",
        "  print(\"The condition is false.\\n\")"
      ],
      "metadata": {
        "colab": {
          "base_uri": "https://localhost:8080/"
        },
        "id": "MQGsGj6xDu4n",
        "outputId": "71c58646-5c42-4ec5-fd6a-d9b6a4b507b6"
      },
      "execution_count": 3,
      "outputs": [
        {
          "output_type": "stream",
          "name": "stdout",
          "text": [
            "The condition is false.\n",
            "\n"
          ]
        }
      ]
    },
    {
      "cell_type": "markdown",
      "source": [
        "Recalling that boolean variables have their equivalent in integers, we could also perform the conditional in the following way:"
      ],
      "metadata": {
        "id": "frC0vy0CDxxC"
      }
    },
    {
      "cell_type": "code",
      "source": [
        "a = 5\n",
        "\n",
        "if a: #a as an int variable\n",
        "  print(\"The condition is true.\\n\")\n",
        "else:\n",
        "  print(\"The condition is false.\\n\")"
      ],
      "metadata": {
        "colab": {
          "base_uri": "https://localhost:8080/"
        },
        "id": "xyRIhIhvD6Pa",
        "outputId": "6c69cd31-af55-4866-d27e-d9c11db7526b"
      },
      "execution_count": 4,
      "outputs": [
        {
          "output_type": "stream",
          "name": "stdout",
          "text": [
            "The condition is true.\n",
            "\n"
          ]
        }
      ]
    },
    {
      "cell_type": "code",
      "source": [
        "a = 0\n",
        "\n",
        "if a:\n",
        "  print(\"The condition is true.\\n\")\n",
        "else:\n",
        "  print(\"The condition is false.\\n\")"
      ],
      "metadata": {
        "colab": {
          "base_uri": "https://localhost:8080/"
        },
        "id": "DbzDH0qwD8QQ",
        "outputId": "d35bfd8f-fef9-4fb9-827f-114b2a7f1fec"
      },
      "execution_count": 5,
      "outputs": [
        {
          "output_type": "stream",
          "name": "stdout",
          "text": [
            "The condition is false.\n",
            "\n"
          ]
        }
      ]
    },
    {
      "cell_type": "markdown",
      "source": [
        "\n",
        "Many times it is necessary to use nested if statements. For this, the \"elif\" statement is very useful."
      ],
      "metadata": {
        "id": "fNWEc7KmEDj4"
      }
    },
    {
      "cell_type": "code",
      "source": [
        "\n",
        "a = True\n",
        "b = True\n",
        "\n",
        "if a:\n",
        "  print(\"Condition 1 is true.\\n\")\n",
        "elif b:\n",
        "  print(\"Condition 2 is true.\\n\")\n"
      ],
      "metadata": {
        "colab": {
          "base_uri": "https://localhost:8080/"
        },
        "id": "OP3rdF2nD_eX",
        "outputId": "129cb97d-ff0c-4fcb-df42-3cb3d990824a"
      },
      "execution_count": null,
      "outputs": [
        {
          "output_type": "stream",
          "name": "stdout",
          "text": [
            "Condition 1 is true.\n",
            "\n"
          ]
        }
      ]
    },
    {
      "cell_type": "code",
      "source": [
        "a = False\n",
        "b = True\n",
        "\n",
        "if a:\n",
        "  print(\"Condition 1 is true.\\n\")\n",
        "elif b:\n",
        "  print(\"Condition 2 is true.\\n\")\n"
      ],
      "metadata": {
        "colab": {
          "base_uri": "https://localhost:8080/"
        },
        "id": "MAPP8N-GEuiO",
        "outputId": "8f3ffb88-cf67-4f9f-e181-fb735296cb0b"
      },
      "execution_count": 6,
      "outputs": [
        {
          "output_type": "stream",
          "name": "stdout",
          "text": [
            "Condition 2 is true.\n",
            "\n"
          ]
        }
      ]
    },
    {
      "cell_type": "markdown",
      "source": [
        "In this case, we first check if condition a is true, but if not, we don't directly print the second message. Instead, we now check if condition b is true or not (the second condition is only evaluated if the first one was not true).\n",
        "\n",
        "We can add an else statement at the end, which would be executed if none of the previous conditions are true (the final option)."
      ],
      "metadata": {
        "id": "MI1yZs1eExGO"
      }
    },
    {
      "cell_type": "code",
      "source": [
        "\n",
        "a = False\n",
        "b = True\n",
        "\n",
        "if a:\n",
        "  print(\"Condition 1 is true.\\n\")\n",
        "elif b:\n",
        "  print(\"Condition 2 is true.\\n\")\n",
        "else:\n",
        "  print(\"Both conditions are false.\\n\")"
      ],
      "metadata": {
        "colab": {
          "base_uri": "https://localhost:8080/"
        },
        "id": "FghUVGjVFRZM",
        "outputId": "175c3714-261f-4d15-e6f2-9a2ced80c422"
      },
      "execution_count": null,
      "outputs": [
        {
          "output_type": "stream",
          "name": "stdout",
          "text": [
            "Condition 2 is true.\n",
            "\n"
          ]
        }
      ]
    },
    {
      "cell_type": "code",
      "source": [
        "\n",
        "a = False\n",
        "b = False\n",
        "\n",
        "if a:\n",
        "  print(\"Condition 1 is true.\\n\")\n",
        "elif b:\n",
        "  print(\"Condition 2 is true.\\n\")\n",
        "else:\n",
        "  print(\"Both conditions are false.\\n\")"
      ],
      "metadata": {
        "colab": {
          "base_uri": "https://localhost:8080/"
        },
        "id": "A5QLFL4VFZsQ",
        "outputId": "ebb5e7d0-d9c7-42b0-a045-fdb808468210"
      },
      "execution_count": 7,
      "outputs": [
        {
          "output_type": "stream",
          "name": "stdout",
          "text": [
            "Both conditions are false.\n",
            "\n"
          ]
        }
      ]
    },
    {
      "cell_type": "markdown",
      "source": [
        "Similarly, we can directly nest the if statements if we only want the subsequent condition to be evaluated if the previous one is true."
      ],
      "metadata": {
        "id": "P9HDhYXtKX7K"
      }
    },
    {
      "cell_type": "code",
      "source": [
        "a = True\n",
        "b = True\n",
        "\n",
        "if a:\n",
        "  if b:\n",
        "    print(\"a and b are true.\\n\")#double tab is required here!\n",
        "  else:\n",
        "    print(\"a is true but b is false.\\n\")\n",
        "else:\n",
        "  print(\"a is not true.\\n\")"
      ],
      "metadata": {
        "colab": {
          "base_uri": "https://localhost:8080/"
        },
        "id": "AuBe0qhdKXU7",
        "outputId": "6dec71cd-7fc8-4b08-8a92-23b04b0ae620"
      },
      "execution_count": null,
      "outputs": [
        {
          "output_type": "stream",
          "name": "stdout",
          "text": [
            "a and b are true.\n",
            "\n"
          ]
        }
      ]
    },
    {
      "cell_type": "code",
      "source": [
        "a = False\n",
        "b = False\n",
        "\n",
        "if a:\n",
        "  if b:\n",
        "    print(\"a and b are true.\\n\")\n",
        "  else:\n",
        "    print(\"a is true but b is false.\\n\")\n",
        "else:\n",
        "  print(\"a is not true.\\n\")"
      ],
      "metadata": {
        "colab": {
          "base_uri": "https://localhost:8080/"
        },
        "id": "oxH42MDxLIvk",
        "outputId": "d1229715-dde7-4d78-8fd9-c497ed149e7c"
      },
      "execution_count": null,
      "outputs": [
        {
          "output_type": "stream",
          "name": "stdout",
          "text": [
            "a is not true.\n",
            "\n"
          ]
        }
      ]
    },
    {
      "cell_type": "code",
      "source": [
        "a = False\n",
        "b = False\n",
        "\n",
        "if a:\n",
        "  if b:\n",
        "    print(\"a and b are true.\\n\")\n",
        "  else:\n",
        "    print(\"a is true but b is false.\\n\")\n",
        "else:\n",
        "  print(\"a is not true.\\n\")"
      ],
      "metadata": {
        "colab": {
          "base_uri": "https://localhost:8080/"
        },
        "id": "CFjjpC7ILL7D",
        "outputId": "19453a40-67e3-434a-f20d-ecdea62ac288"
      },
      "execution_count": null,
      "outputs": [
        {
          "output_type": "stream",
          "name": "stdout",
          "text": [
            "a is not true.\n",
            "\n"
          ]
        }
      ]
    },
    {
      "cell_type": "code",
      "source": [
        "\n",
        "a = False\n",
        "b = True\n",
        "\n",
        "if a:\n",
        "  if b:\n",
        "    print(\"a and b are true.\\n\")\n",
        "  else:\n",
        "    print(\"a is true but b is false.\\n\")\n",
        "else:\n",
        "  print(\"a is not true.\\n\")"
      ],
      "metadata": {
        "colab": {
          "base_uri": "https://localhost:8080/"
        },
        "id": "2_WzD4IILR6D",
        "outputId": "185e3e72-0885-4840-ea6d-c120d19b5b4a"
      },
      "execution_count": null,
      "outputs": [
        {
          "output_type": "stream",
          "name": "stdout",
          "text": [
            "a is not true.\n",
            "\n"
          ]
        }
      ]
    },
    {
      "cell_type": "markdown",
      "source": [
        "In other languages, the exclamation mark (!) can be used to evaluate the logical negation of a variable.\n",
        "\n",
        "In Python, we can use the keyword \"not\" before the variable to achieve the same effect."
      ],
      "metadata": {
        "id": "iVTrietnGmkB"
      }
    },
    {
      "cell_type": "code",
      "source": [
        "not True"
      ],
      "metadata": {
        "colab": {
          "base_uri": "https://localhost:8080/"
        },
        "id": "d9EjgT7nG76A",
        "outputId": "46f613b0-83d6-4d60-8c99-f73615b6ea5a"
      },
      "execution_count": null,
      "outputs": [
        {
          "output_type": "execute_result",
          "data": {
            "text/plain": [
              "False"
            ]
          },
          "metadata": {},
          "execution_count": 16
        }
      ]
    },
    {
      "cell_type": "code",
      "source": [
        "not False"
      ],
      "metadata": {
        "colab": {
          "base_uri": "https://localhost:8080/"
        },
        "id": "SuMYbT_JG9pK",
        "outputId": "4301fa3f-a46a-4f48-db22-32c548ecd475"
      },
      "execution_count": null,
      "outputs": [
        {
          "output_type": "execute_result",
          "data": {
            "text/plain": [
              "True"
            ]
          },
          "metadata": {},
          "execution_count": 17
        }
      ]
    },
    {
      "cell_type": "code",
      "source": [
        "not 8"
      ],
      "metadata": {
        "colab": {
          "base_uri": "https://localhost:8080/"
        },
        "id": "dHpVP55rG_Rl",
        "outputId": "bea3200c-f8de-4ced-96e5-0cd81f79d793"
      },
      "execution_count": null,
      "outputs": [
        {
          "output_type": "execute_result",
          "data": {
            "text/plain": [
              "False"
            ]
          },
          "metadata": {},
          "execution_count": 18
        }
      ]
    },
    {
      "cell_type": "code",
      "source": [
        "not 0"
      ],
      "metadata": {
        "colab": {
          "base_uri": "https://localhost:8080/"
        },
        "id": "x3dpCJ2jHBpH",
        "outputId": "73f5f473-fe85-4cec-d3cb-ea2b01cc60b5"
      },
      "execution_count": null,
      "outputs": [
        {
          "output_type": "execute_result",
          "data": {
            "text/plain": [
              "True"
            ]
          },
          "metadata": {},
          "execution_count": 19
        }
      ]
    },
    {
      "cell_type": "code",
      "source": [
        "a = True\n",
        "b = True\n",
        "\n",
        "if not a:\n",
        "  print(\"Condition 1 is true.\\n\")\n",
        "elif b:\n",
        "  print(\"Condition 2 is true.\\n\")\n",
        "else:\n",
        "  print(\"Both conditions are false.\\n\")"
      ],
      "metadata": {
        "colab": {
          "base_uri": "https://localhost:8080/"
        },
        "id": "26Fu_3KhG0bC",
        "outputId": "c8ba582a-d5e6-4247-8816-bf453ce84bcf"
      },
      "execution_count": null,
      "outputs": [
        {
          "output_type": "stream",
          "name": "stdout",
          "text": [
            "Condition 2 is true.\n",
            "\n"
          ]
        }
      ]
    },
    {
      "cell_type": "markdown",
      "source": [
        "On the other hand, we don't always need to evaluate conditions separately but create logical expressions with them. For this purpose, we have the following operators:\n",
        "\n",
        ". Logical operators: \"or\", \"and\"\n",
        "\n",
        ". Comparison operators: <, >, <=, >=, ==, !="
      ],
      "metadata": {
        "id": "jMy5rePdFjNg"
      }
    },
    {
      "cell_type": "code",
      "source": [
        "a =  True\n",
        "b = False\n",
        "\n",
        "if a or b:\n",
        "  print(\"At least one condition is true.\\n\")\n",
        "else:\n",
        "  print(\"It's not any value.\")"
      ],
      "metadata": {
        "colab": {
          "base_uri": "https://localhost:8080/"
        },
        "id": "wnuvPyZBHVgC",
        "outputId": "d57ff2ed-668a-43cc-8f9c-71c732e47f61"
      },
      "execution_count": 9,
      "outputs": [
        {
          "output_type": "stream",
          "name": "stdout",
          "text": [
            "At least one condition is true.\n",
            "\n"
          ]
        }
      ]
    },
    {
      "cell_type": "code",
      "source": [
        "a = 3\n",
        "b = 4\n",
        "\n",
        "if a != b:\n",
        "  print(\"The numbers are different.\\n\")"
      ],
      "metadata": {
        "colab": {
          "base_uri": "https://localhost:8080/"
        },
        "id": "xPraa9wBHfR8",
        "outputId": "9a042a8a-e9f7-499a-c968-65f89f684ec1"
      },
      "execution_count": null,
      "outputs": [
        {
          "output_type": "stream",
          "name": "stdout",
          "text": [
            "The numbers are different.\n",
            "\n"
          ]
        }
      ]
    },
    {
      "cell_type": "code",
      "source": [
        "a = 4\n",
        "b = 4\n",
        "\n",
        "if a == b:\n",
        "  print(\"The numbers are equal.\\n\")"
      ],
      "metadata": {
        "colab": {
          "base_uri": "https://localhost:8080/"
        },
        "id": "agG1ggz0IBuz",
        "outputId": "28463dd0-ce3e-4f27-c824-017ec05988be"
      },
      "execution_count": null,
      "outputs": [
        {
          "output_type": "stream",
          "name": "stdout",
          "text": [
            "The numbers are equal.\n",
            "\n"
          ]
        }
      ]
    },
    {
      "cell_type": "code",
      "source": [
        "a = 1\n",
        "b = 2\n",
        "c = 3\n",
        "\n",
        "if a < b < c:\n",
        "  print(\"The order is ascending.\\n\")"
      ],
      "metadata": {
        "id": "2WlutQYmIIe3",
        "colab": {
          "base_uri": "https://localhost:8080/"
        },
        "outputId": "50cddef0-57ad-462d-ff66-902ba9567c7b"
      },
      "execution_count": null,
      "outputs": [
        {
          "output_type": "stream",
          "name": "stdout",
          "text": [
            "The order is ascending.\n",
            "\n"
          ]
        }
      ]
    },
    {
      "cell_type": "code",
      "source": [
        "a = 3\n",
        "b = 2\n",
        "c = 3\n",
        "\n",
        "if a < b < c:\n",
        "  print(\"The order is ascending.\\n\")\n",
        "else:\n",
        "  print(a + b + c)\n"
      ],
      "metadata": {
        "colab": {
          "base_uri": "https://localhost:8080/"
        },
        "id": "b3sQXrU0IThJ",
        "outputId": "dbc8ea99-d4ff-4694-961a-decc858fdce4"
      },
      "execution_count": 11,
      "outputs": [
        {
          "output_type": "stream",
          "name": "stdout",
          "text": [
            "8\n"
          ]
        }
      ]
    },
    {
      "cell_type": "markdown",
      "source": [
        "When multiple chained comparisons like the previous ones are performed, Python always evaluates them from left to right in pairs."
      ],
      "metadata": {
        "id": "AC2xrm2AIcic"
      }
    },
    {
      "cell_type": "markdown",
      "source": [
        "\n",
        "In more advanced applications, using lists, tuples, dictionaries, or classes, there are other ways to express conditions that are useful for tackling more complex problems.\n",
        "\n",
        "One quick example, not so complex, is the use of the keyword \"in,\" which is used for strings or arrays of numbers."
      ],
      "metadata": {
        "id": "mAsFtIP5IltC"
      }
    },
    {
      "cell_type": "code",
      "source": [
        "a = [1, 2, 3]\n",
        "b = 2\n",
        "\n",
        "if b in a:\n",
        "  print(\"a contains the value of b.\\n\")\n",
        "else:\n",
        "  print(\"a does not contain the value of b.\\n\")"
      ],
      "metadata": {
        "colab": {
          "base_uri": "https://localhost:8080/"
        },
        "id": "yrBhgY0mI9Ci",
        "outputId": "b29b5810-3203-45f9-d0e9-6e130c88ee18"
      },
      "execution_count": null,
      "outputs": [
        {
          "output_type": "stream",
          "name": "stdout",
          "text": [
            "a contains the value of b.\n",
            "\n"
          ]
        }
      ]
    },
    {
      "cell_type": "code",
      "source": [
        "a = [1, 2, 3]\n",
        "b = 4\n",
        "\n",
        "if b in a:\n",
        "  print(\"a contains the value of b.\\n\")\n",
        "else:\n",
        "  print(\"a does not contain the value of b.\\n\")"
      ],
      "metadata": {
        "colab": {
          "base_uri": "https://localhost:8080/"
        },
        "id": "GlFDLbP-JzM0",
        "outputId": "85bd4d57-9fcf-4579-b659-2783a64ab292"
      },
      "execution_count": null,
      "outputs": [
        {
          "output_type": "stream",
          "name": "stdout",
          "text": [
            "a does not contain the value of b.\n",
            "\n"
          ]
        }
      ]
    },
    {
      "cell_type": "code",
      "source": [
        "if(\"is\" in \"this is a good example\"):\n",
        "  print(\"Word found.\\n\")\n",
        "else:\n",
        "  print(\"Word not found\")"
      ],
      "metadata": {
        "colab": {
          "base_uri": "https://localhost:8080/"
        },
        "id": "mvgyY8s2J2jN",
        "outputId": "ef33cb96-9933-48da-b41e-d320247dfe04"
      },
      "execution_count": 13,
      "outputs": [
        {
          "output_type": "stream",
          "name": "stdout",
          "text": [
            "Word found.\n",
            "\n"
          ]
        }
      ]
    },
    {
      "cell_type": "markdown",
      "source": [
        "\n",
        "## Exercises:\n",
        "\n",
        "1. In order to pay a certain tax, you must be over 16 years old and have a monthly income equal to or greater than €1000. Write a program that asks the user for their age and monthly income, and displays whether the user has to pay the tax or not.\n",
        "\n",
        "\n",
        "2. The Bella Napoli pizzeria offers vegetarian and non-vegetarian pizzas to its customers. The ingredients for each type of pizza are as follows:\n",
        "\n",
        "Vegetarian ingredients: Bell peppers and tofu.\n",
        "\n",
        "Non-vegetarian ingredients: Pepperoni, Ham, and Salmon.\n",
        "\n",
        "Write a program that asks the user if they want a vegetarian pizza or not, and based on their response, displays a menu with the available ingredients for them to choose from. Only one additional ingredient can be chosen besides the mozzarella and tomato, which are included in all pizzas. Finally, the program should display whether the chosen pizza is vegetarian or not, along with all the ingredients it contains."
      ],
      "metadata": {
        "id": "fO1RHJGAiIp2"
      }
    },
    {
      "cell_type": "markdown",
      "source": [
        "Developed by:\n",
        "\n",
        "- Brian Patino Agudelo - bpatinoa@unal.edu.co\n",
        "\n",
        "- Andrés Marino Álvarez Meza - amalvarezme@unal.edu.co\n",
        "\n",
        "- César Germán Castellanos Domínguez - cgcastellanosd@unal.edu.co"
      ],
      "metadata": {
        "id": "QQg2r04O174w"
      }
    },
    {
      "cell_type": "code",
      "source": [],
      "metadata": {
        "id": "KIWL9EGb7SIR"
      },
      "execution_count": null,
      "outputs": []
    },
    {
      "cell_type": "markdown",
      "source": [
        " # 1\n"
      ],
      "metadata": {
        "id": "GLErG1c-xSy7"
      }
    },
    {
      "cell_type": "code",
      "source": [
        "\n",
        "edad = int(input(\"ingrese su edad: \"))\n",
        "\n",
        "if edad < 18:\n",
        "    print(\"usted es menor de edad\")\n",
        "else:\n",
        "  ingresos = int(input(\"ingrese su salio mensual: \"))\n",
        "  if ingresos < 1000 :\n",
        "    print(\"usted no puede pagar este impuesto\")\n",
        "\n",
        "  else:\n",
        "    print(\"usted cumple con requisitos para pagar este impuesto\")"
      ],
      "metadata": {
        "id": "qYbDVh8XxZjZ",
        "outputId": "895f3970-54b8-43b1-df01-13258834c5a4",
        "colab": {
          "base_uri": "https://localhost:8080/"
        }
      },
      "execution_count": 30,
      "outputs": [
        {
          "output_type": "stream",
          "name": "stdout",
          "text": [
            "ingrese su edad: 19\n",
            "ingrese su salio mensual: 1500\n",
            "usted cumple con requisitos para pagar este impuesto\n"
          ]
        }
      ]
    },
    {
      "cell_type": "markdown",
      "source": [
        "# 2"
      ],
      "metadata": {
        "id": "lkPUX2zT04iy"
      }
    },
    {
      "cell_type": "code",
      "source": [
        "\n",
        "\"\"\"n= int(input(\"si quiere una pizza vegetariana presiona 1, si no quiereuna vegetariana presiona 2: \"))\n",
        "\n",
        "if n == 1:\n",
        "  v= int(input(\"marque el numero correspondiente de que sabor quiere la pizza \\n Pimientos 1 \\n morrones 2 \\n tofu 2 \\n\"))\n",
        "    if v == 1:\n",
        "      print(\"usted pidio una pizza \")\n",
        "\"\"\"\n",
        "\n",
        "\n",
        "n=0\n",
        "ingredientes =0\n",
        "while n != 2:\n",
        "  print(f\"usted tiene {ingredientes} de 2\")\n",
        "  v_nv= int(input(\"presione 1 si quiere ingredientes vegetarianos, sino 2 para ingrediente no vegetarianos\"))\n",
        "  if v_nv == 1:\n",
        "        v_i= int(input(\"usted elegio ingredientes vetarrianos, marque el numero correspondiente al sabor que va a elegir: \\n Pimientos 1 \\n morrones  2 \\n tofu  3 \\n\"))\n",
        "        if v_i == 1:\n",
        "              print(\"usted eligio morrones\")\n",
        "              n+= 1\n",
        "        elif v_i == 2:\n",
        "              print(\"usted eligio tofu\")\n",
        "              n += 1\n",
        "        else :\n",
        "\n",
        "                l=0\n",
        "                while l == 0:\n",
        "                  sn= int(input(\"usted no eligio ningun ingrediente no vegano, \\n 1 para volver al menu principal \\n 2 cancelar pedido\"))\n",
        "                  if sn == 1:\n",
        "                        l+= 1\n",
        "                  elif sn == 2:\n",
        "                      break\n",
        "                  else:\n",
        "                      l=0\n",
        "\n",
        "  elif v_nv == 2:\n",
        "              v_i= int(input(\"usted elegio ingredientes vetarrianos, marque el numero correspondiente al sabor que va a elegir: \\n pepperoni 1 \\n jamón 2 \\n salmón 3 \\n\"))\n",
        "              if v_i == 1:\n",
        "                  print(\"usted eligio peperoni \")\n",
        "                  n+= 1\n",
        "              elif v_i == 1:\n",
        "                  print(\"usted eligio jamón\")\n",
        "                  n+= 1\n",
        "              elif v_i == 2:\n",
        "                  print(\"usted eligio salmón\")\n",
        "                  n += 1\n",
        "              else :\n",
        "                    l=0\n",
        "                    while l == 0:\n",
        "                      sn= int(input(\"usted no eligio ningun ingrediente no vegano, \\n 1 para volver al menu principal \\n 2 cancelar pedido\"))\n",
        "                      if sn == 1:\n",
        "                            l+= 1\n",
        "                      elif sn == 2:\n",
        "                          break\n",
        "                      else:\n",
        "                          l=0\n",
        "  else:\n",
        "              l=0\n",
        "              while l == 0:\n",
        "                sn= int(input(\"usted no eligio ningun ingrediente no vegano, \\n 1 para volver al menu principal \\n 2 cancelar pedido\"))\n",
        "                if sn == 1:\n",
        "                      l+= 1\n",
        "                elif sn == 2:\n",
        "                    break\n",
        "                else:\n",
        "                    l=0\n",
        "\n",
        "\n",
        "\n",
        "\n",
        "\n",
        "\n",
        "\n",
        "\n",
        "\n",
        "\n",
        "\n"
      ],
      "metadata": {
        "id": "WkyyoCY9050o",
        "outputId": "59128ce6-bee8-4805-8655-2083bc814d5a",
        "colab": {
          "base_uri": "https://localhost:8080/",
          "height": 488
        }
      },
      "execution_count": 49,
      "outputs": [
        {
          "name": "stdout",
          "output_type": "stream",
          "text": [
            "usted tiene 0 de 2\n",
            "presione 1 si quiere ingredientes vegetarianos, sino 2 para ingrediente no vegetarianos1\n",
            "usted elegio ingredientes vetarrianos, marque el numero correspondiente al sabor que va a elegir: \n",
            " Pimientos 1 \n",
            " morrones  2 \n",
            " tofu  3 \n",
            "1\n",
            "usted eligio morrones\n",
            "usted tiene 0 de 2\n",
            "presione 1 si quiere ingredientes vegetarianos, sino 2 para ingrediente no vegetarianos1\n",
            "usted elegio ingredientes vetarrianos, marque el numero correspondiente al sabor que va a elegir: \n",
            " Pimientos 1 \n",
            " morrones  2 \n",
            " tofu  3 \n",
            "\n"
          ]
        },
        {
          "output_type": "error",
          "ename": "ValueError",
          "evalue": "invalid literal for int() with base 10: ''",
          "traceback": [
            "\u001b[0;31m---------------------------------------------------------------------------\u001b[0m",
            "\u001b[0;31mValueError\u001b[0m                                Traceback (most recent call last)",
            "\u001b[0;32m<ipython-input-49-b83f401ff5d4>\u001b[0m in \u001b[0;36m<cell line: 12>\u001b[0;34m()\u001b[0m\n\u001b[1;32m     14\u001b[0m   \u001b[0mv_nv\u001b[0m\u001b[0;34m=\u001b[0m \u001b[0mint\u001b[0m\u001b[0;34m(\u001b[0m\u001b[0minput\u001b[0m\u001b[0;34m(\u001b[0m\u001b[0;34m\"presione 1 si quiere ingredientes vegetarianos, sino 2 para ingrediente no vegetarianos\"\u001b[0m\u001b[0;34m)\u001b[0m\u001b[0;34m)\u001b[0m\u001b[0;34m\u001b[0m\u001b[0;34m\u001b[0m\u001b[0m\n\u001b[1;32m     15\u001b[0m   \u001b[0;32mif\u001b[0m \u001b[0mv_nv\u001b[0m \u001b[0;34m==\u001b[0m \u001b[0;36m1\u001b[0m\u001b[0;34m:\u001b[0m\u001b[0;34m\u001b[0m\u001b[0;34m\u001b[0m\u001b[0m\n\u001b[0;32m---> 16\u001b[0;31m         \u001b[0mv_i\u001b[0m\u001b[0;34m=\u001b[0m \u001b[0mint\u001b[0m\u001b[0;34m(\u001b[0m\u001b[0minput\u001b[0m\u001b[0;34m(\u001b[0m\u001b[0;34m\"usted elegio ingredientes vetarrianos, marque el numero correspondiente al sabor que va a elegir: \\n Pimientos 1 \\n morrones  2 \\n tofu  3 \\n\"\u001b[0m\u001b[0;34m)\u001b[0m\u001b[0;34m)\u001b[0m\u001b[0;34m\u001b[0m\u001b[0;34m\u001b[0m\u001b[0m\n\u001b[0m\u001b[1;32m     17\u001b[0m         \u001b[0;32mif\u001b[0m \u001b[0mv_i\u001b[0m \u001b[0;34m==\u001b[0m \u001b[0;36m1\u001b[0m\u001b[0;34m:\u001b[0m\u001b[0;34m\u001b[0m\u001b[0;34m\u001b[0m\u001b[0m\n\u001b[1;32m     18\u001b[0m               \u001b[0mprint\u001b[0m\u001b[0;34m(\u001b[0m\u001b[0;34m\"usted eligio morrones\"\u001b[0m\u001b[0;34m)\u001b[0m\u001b[0;34m\u001b[0m\u001b[0;34m\u001b[0m\u001b[0m\n",
            "\u001b[0;31mValueError\u001b[0m: invalid literal for int() with base 10: ''"
          ]
        }
      ]
    }
  ]
}